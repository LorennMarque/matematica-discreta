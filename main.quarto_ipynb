{
  "cells": [
    {
      "cell_type": "markdown",
      "metadata": {},
      "source": [
        "---\n",
        "title: \"Documento de Matemática Discreta\"\n",
        "author: \"Lorenn\"\n",
        "date: \"2023-10-05\"\n",
        "format: pdf\n",
        "---"
      ],
      "id": "959d6dac"
    },
    {
      "cell_type": "code",
      "metadata": {},
      "source": [
        "2+2"
      ],
      "id": "790e43f5",
      "execution_count": null,
      "outputs": []
    },
    {
      "cell_type": "markdown",
      "metadata": {},
      "source": [
        "# Resumen\n",
        "Se cuenta lo que se hizo\n",
        "\n",
        "# Introducción\n",
        "Estado del arte del tema trabajos\n",
        "\n",
        "# Teoría\n",
        "\n",
        "Explica las herramientas usadas, graficos\n",
        "\n",
        "# Resultados\n",
        "\n",
        "Texto, graficos\n",
        "\n",
        "# Conclusiónes\n",
        "\n",
        "# Apéndice\n",
        "\n",
        "Bibliografia en formato: \\[1\\] Autor, titulo, revista, año"
      ],
      "id": "e3827596"
    }
  ],
  "metadata": {
    "kernelspec": {
      "display_name": "Python 3",
      "language": "python",
      "name": "python3"
    }
  },
  "nbformat": 4,
  "nbformat_minor": 5
}