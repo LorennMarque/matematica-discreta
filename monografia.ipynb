{
 "cells": [
  {
   "cell_type": "markdown",
   "metadata": {},
   "source": [
    "<center>\n",
    "<h1>Documento de matemática discreta</h1>\n",
    "<h3>Lorenzo Marquesini</h3>\n",
    "<h3>2024-11-13</h3>\n",
    "</center>\n",
    "\n",
    "<style>\n",
    "  body {\n",
    "    margin: 75px; /* Cambia el valor para ajustar el margen */\n",
    "  }\n",
    "  .container {\n",
    "    margin: 75px;\n",
    "  }\n",
    "</style>"
   ]
  },
  {
   "cell_type": "markdown",
   "metadata": {},
   "source": [
    "## Resumen\n",
    "En este trabajo se analiza la logística de entregas de la empresa Iflow en la ciudad de Buenos Aires, utilizando técnicas de coloración de grafos para identificar rutas potenciales de repartidores. A partir de datos geográficos y temporales de las entregas realizadas entre mayo y agosto de 2024 para dos clientes específicos, se busca optimizar y visualizar las rutas de entrega mediante algoritmos de teoría de grafos y representación gráfica mejorada."
   ]
  },
  {
   "cell_type": "markdown",
   "metadata": {},
   "source": [
    "## Introducción\n",
    "La logística de distribución es un factor crítico en la eficiencia operacional de empresas de entrega. Con el crecimiento de las ciudades y la demanda de entregas rápidas, es esencial optimizar las rutas de los repartidores para minimizar tiempos y costos. Este estudio se enfoca en las entregas realizadas por Iflow, una empresa de logística, a supermercados en Buenos Aires, utilizando datos reales de entregas diarias de dos clientes (identificados como cliente 20 y 70) durante un período de cuatro meses en 2024.\n",
    "\n",
    "El objetivo principal es aplicar técnicas de coloración de grafos para identificar y visualizar posibles rutas de repartidores, aprovechando información geográfica y temporal. Esto permitirá proponer mejoras en la asignación de rutas y recursos, contribuyendo a una logística más eficiente."
   ]
  }
 ],
 "metadata": {
  "language_info": {
   "name": "python"
  }
 },
 "nbformat": 4,
 "nbformat_minor": 2
}
